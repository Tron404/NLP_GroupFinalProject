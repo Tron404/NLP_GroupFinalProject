{
 "cells": [
  {
   "cell_type": "code",
   "execution_count": 245,
   "metadata": {},
   "outputs": [],
   "source": [
    "import os\n",
    "import tokenize\n",
    "import io\n",
    "import re\n",
    "import gensim.downloader as api\n",
    "import pandas as pd\n",
    "import numpy as np\n",
    "from numpy import asarray\n",
    "from nltk.corpus import stopwords\n",
    "from nltk.stem import WordNetLemmatizer\n",
    "from collections import Counter\n",
    "from keras.preprocessing.text import Tokenizer\n",
    "from gensim.models import Word2Vec\n",
    "from keras.utils import pad_sequences\n",
    "import matplotlib.pyplot as plt\n",
    "from sklearn.model_selection import train_test_split\n",
    "from wordcloud import WordCloud\n",
    "from nltk import FreqDist\n",
    "\n",
    "data_file = \"ProblemSolutionPythonV3.csv\" # obtained from Kaggle\n",
    "preprocessed_file = \"preprocessed_text.csv\"\n",
    "preprocessed_folder = \"./processed\"\n",
    "pretrained_w2v = \"glove-wiki-gigaword-50\"\n",
    "pretrained_w2v_file = str(pretrained_w2v) + \"-word2vec.txt\" \n",
    "w2v_filename =  'embedding_w2v_matrix.npy'\n",
    "\n",
    "\n",
    "# Setting data visualization settings\n",
    "pd.set_option('display.max_rows', None)\n",
    "pd.set_option('display.max_columns', None)\n",
    "pd.set_option('display.width', None)"
   ]
  },
  {
   "attachments": {},
   "cell_type": "markdown",
   "metadata": {},
   "source": [
    "## Preprocess Data"
   ]
  },
  {
   "attachments": {},
   "cell_type": "markdown",
   "metadata": {},
   "source": [
    "We first load the original data and analyse it."
   ]
  },
  {
   "cell_type": "code",
   "execution_count": 246,
   "metadata": {},
   "outputs": [
    {
     "name": "stdout",
     "output_type": "stream",
     "text": [
      "Data shape: (3307, 3)\n",
      "\n",
      "<class 'pandas.core.frame.DataFrame'>\n",
      "RangeIndex: 3307 entries, 0 to 3306\n",
      "Data columns (total 3 columns):\n",
      " #   Column       Non-Null Count  Dtype \n",
      "---  ------       --------------  ----- \n",
      " 0   Unnamed: 0   3307 non-null   int64 \n",
      " 1   Problem      3307 non-null   object\n",
      " 2   Python Code  3306 non-null   object\n",
      "dtypes: int64(1), object(2)\n",
      "memory usage: 77.6+ KB\n"
     ]
    },
    {
     "data": {
      "text/html": [
       "<div>\n",
       "<style scoped>\n",
       "    .dataframe tbody tr th:only-of-type {\n",
       "        vertical-align: middle;\n",
       "    }\n",
       "\n",
       "    .dataframe tbody tr th {\n",
       "        vertical-align: top;\n",
       "    }\n",
       "\n",
       "    .dataframe thead th {\n",
       "        text-align: right;\n",
       "    }\n",
       "</style>\n",
       "<table border=\"1\" class=\"dataframe\">\n",
       "  <thead>\n",
       "    <tr style=\"text-align: right;\">\n",
       "      <th></th>\n",
       "      <th>Unnamed: 0</th>\n",
       "      <th>Problem</th>\n",
       "      <th>Python Code</th>\n",
       "    </tr>\n",
       "  </thead>\n",
       "  <tbody>\n",
       "    <tr>\n",
       "      <th>0</th>\n",
       "      <td>0</td>\n",
       "      <td>Write a NumPy program to repeat elements of an...</td>\n",
       "      <td>import numpy as np\\rx = np.repeat(3, 4)\\rprint...</td>\n",
       "    </tr>\n",
       "    <tr>\n",
       "      <th>1</th>\n",
       "      <td>1</td>\n",
       "      <td>Write a Python function to create and print a ...</td>\n",
       "      <td>def printValues():\\n\\tl = list()\\n\\tfor i in r...</td>\n",
       "    </tr>\n",
       "    <tr>\n",
       "      <th>2</th>\n",
       "      <td>2</td>\n",
       "      <td>Write a Python program to remove duplicates fr...</td>\n",
       "      <td>import itertools\\rnum = [[10, 20], [40], [30, ...</td>\n",
       "    </tr>\n",
       "    <tr>\n",
       "      <th>3</th>\n",
       "      <td>3</td>\n",
       "      <td>Write a NumPy program to compute the x and y c...</td>\n",
       "      <td>import numpy as np\\rimport matplotlib.pyplot a...</td>\n",
       "    </tr>\n",
       "    <tr>\n",
       "      <th>4</th>\n",
       "      <td>4</td>\n",
       "      <td>Write a Python program to alter a given SQLite...</td>\n",
       "      <td>import sqlite3\\rfrom sqlite3 import Error\\rdef...</td>\n",
       "    </tr>\n",
       "  </tbody>\n",
       "</table>\n",
       "</div>"
      ],
      "text/plain": [
       "   Unnamed: 0                                            Problem   \n",
       "0           0  Write a NumPy program to repeat elements of an...  \\\n",
       "1           1  Write a Python function to create and print a ...   \n",
       "2           2  Write a Python program to remove duplicates fr...   \n",
       "3           3  Write a NumPy program to compute the x and y c...   \n",
       "4           4  Write a Python program to alter a given SQLite...   \n",
       "\n",
       "                                         Python Code  \n",
       "0  import numpy as np\\rx = np.repeat(3, 4)\\rprint...  \n",
       "1  def printValues():\\n\\tl = list()\\n\\tfor i in r...  \n",
       "2  import itertools\\rnum = [[10, 20], [40], [30, ...  \n",
       "3  import numpy as np\\rimport matplotlib.pyplot a...  \n",
       "4  import sqlite3\\rfrom sqlite3 import Error\\rdef...  "
      ]
     },
     "execution_count": 246,
     "metadata": {},
     "output_type": "execute_result"
    }
   ],
   "source": [
    "data = pd.read_csv(data_file)\n",
    "\n",
    "print(f\"Data shape: {data.shape}\\n\")\n",
    "data.info()\n",
    "data.head()"
   ]
  },
  {
   "attachments": {},
   "cell_type": "markdown",
   "metadata": {},
   "source": [
    "We perform some initial cleaning on the dataset such as removing NaN rows."
   ]
  },
  {
   "cell_type": "code",
   "execution_count": 247,
   "metadata": {},
   "outputs": [
    {
     "name": "stdout",
     "output_type": "stream",
     "text": [
      "Data shape:  (3306, 2)\n"
     ]
    },
    {
     "data": {
      "text/html": [
       "<div>\n",
       "<style scoped>\n",
       "    .dataframe tbody tr th:only-of-type {\n",
       "        vertical-align: middle;\n",
       "    }\n",
       "\n",
       "    .dataframe tbody tr th {\n",
       "        vertical-align: top;\n",
       "    }\n",
       "\n",
       "    .dataframe thead th {\n",
       "        text-align: right;\n",
       "    }\n",
       "</style>\n",
       "<table border=\"1\" class=\"dataframe\">\n",
       "  <thead>\n",
       "    <tr style=\"text-align: right;\">\n",
       "      <th></th>\n",
       "      <th>Problem</th>\n",
       "      <th>Python Code</th>\n",
       "    </tr>\n",
       "  </thead>\n",
       "  <tbody>\n",
       "    <tr>\n",
       "      <th>0</th>\n",
       "      <td>Write a NumPy program to repeat elements of an...</td>\n",
       "      <td>import numpy as np\\rx = np.repeat(3, 4)\\rprint...</td>\n",
       "    </tr>\n",
       "    <tr>\n",
       "      <th>1</th>\n",
       "      <td>Write a Python function to create and print a ...</td>\n",
       "      <td>def printValues():\\n\\tl = list()\\n\\tfor i in r...</td>\n",
       "    </tr>\n",
       "    <tr>\n",
       "      <th>2</th>\n",
       "      <td>Write a Python program to remove duplicates fr...</td>\n",
       "      <td>import itertools\\rnum = [[10, 20], [40], [30, ...</td>\n",
       "    </tr>\n",
       "    <tr>\n",
       "      <th>3</th>\n",
       "      <td>Write a NumPy program to compute the x and y c...</td>\n",
       "      <td>import numpy as np\\rimport matplotlib.pyplot a...</td>\n",
       "    </tr>\n",
       "    <tr>\n",
       "      <th>4</th>\n",
       "      <td>Write a Python program to alter a given SQLite...</td>\n",
       "      <td>import sqlite3\\rfrom sqlite3 import Error\\rdef...</td>\n",
       "    </tr>\n",
       "  </tbody>\n",
       "</table>\n",
       "</div>"
      ],
      "text/plain": [
       "                                             Problem   \n",
       "0  Write a NumPy program to repeat elements of an...  \\\n",
       "1  Write a Python function to create and print a ...   \n",
       "2  Write a Python program to remove duplicates fr...   \n",
       "3  Write a NumPy program to compute the x and y c...   \n",
       "4  Write a Python program to alter a given SQLite...   \n",
       "\n",
       "                                         Python Code  \n",
       "0  import numpy as np\\rx = np.repeat(3, 4)\\rprint...  \n",
       "1  def printValues():\\n\\tl = list()\\n\\tfor i in r...  \n",
       "2  import itertools\\rnum = [[10, 20], [40], [30, ...  \n",
       "3  import numpy as np\\rimport matplotlib.pyplot a...  \n",
       "4  import sqlite3\\rfrom sqlite3 import Error\\rdef...  "
      ]
     },
     "execution_count": 247,
     "metadata": {},
     "output_type": "execute_result"
    }
   ],
   "source": [
    "data.set_index('Unnamed: 0', inplace=True, drop=True)\n",
    "original_data = data.copy()\n",
    "data = data.dropna()  # remove any rows with missing values\n",
    "data = data.reset_index(drop=True)  # reset the index\n",
    "\n",
    "print(\"Data shape: \", data.shape)\n",
    "data.head()"
   ]
  },
  {
   "attachments": {},
   "cell_type": "markdown",
   "metadata": {},
   "source": [
    "### Preprocess Text/Description Data"
   ]
  },
  {
   "attachments": {},
   "cell_type": "markdown",
   "metadata": {},
   "source": [
    "We apply various preprocessing methods on the descriptions such as: <br>\n",
    "    - converting text to lowercase, <br>\n",
    "    - removing punctuation, <br>\n",
    "    - removing non-alphabetic characters, <br>\n",
    "    - removing stop-words such as \"a\", \"is\", \"the\" etc., <br>\n",
    "    - and apply lemmatization. <br>"
   ]
  },
  {
   "cell_type": "code",
   "execution_count": 248,
   "metadata": {},
   "outputs": [
    {
     "data": {
      "text/plain": [
       "0      [write, numpy, program, repeat, element, array]\n",
       "1    [write, python, function, create, print, list,...\n",
       "2    [write, python, program, remove, duplicate, li...\n",
       "3    [write, numpy, program, compute, x, coordinate...\n",
       "4    [write, python, program, alter, given, sqlite,...\n",
       "Name: Problem, dtype: object"
      ]
     },
     "execution_count": 248,
     "metadata": {},
     "output_type": "execute_result"
    }
   ],
   "source": [
    "# turn a dataset into clean tokens\n",
    "def preprocess_problem_data(text):\n",
    "    # Convert to lowercase\n",
    "    text = text.lower()\n",
    "    # remove punctuation from text\n",
    "    punc_clean = re.sub(r'[^\\w\\s]', '', text)\n",
    "    # split tokens\n",
    "    words = punc_clean.split()\n",
    "    # remove remaining tokens that are not alphabetic\n",
    "    words = [word for word in words if word.isalpha()]\n",
    "    # filter out stop words\n",
    "    stop_words = set(stopwords.words('english'))\n",
    "    words = [word for word in words if word not in stop_words]\n",
    "    # NOTE: we do not filter out short tokens since there are special char like x and y\n",
    "    # lemmatize the tokens\n",
    "    lemmatizer = WordNetLemmatizer()\n",
    "    words = [lemmatizer.lemmatize(word) for word in words]\n",
    "\n",
    "    return words\n",
    "\n",
    "preprocessed = data.copy()\n",
    "preprocessed['Problem'] = preprocessed['Problem'].apply(preprocess_problem_data)\n",
    "preprocessed['Problem'].head()"
   ]
  },
  {
   "attachments": {},
   "cell_type": "markdown",
   "metadata": {},
   "source": [
    "### Split Data into Train-Test"
   ]
  },
  {
   "attachments": {},
   "cell_type": "markdown",
   "metadata": {},
   "source": [
    "We then split the data into train and test sets."
   ]
  },
  {
   "cell_type": "code",
   "execution_count": 249,
   "metadata": {},
   "outputs": [
    {
     "name": "stdout",
     "output_type": "stream",
     "text": [
      "Train shape: (2644,)\n",
      "Test shape: (662,)\n"
     ]
    }
   ],
   "source": [
    "x_train, x_test, y_train, y_test = train_test_split(preprocessed['Problem'], preprocessed['Python Code'], test_size=0.2, random_state=42)\n",
    "\n",
    "print(f\"Train shape: {x_train.shape}\")\n",
    "print(f\"Test shape: {x_test.shape}\")"
   ]
  },
  {
   "attachments": {},
   "cell_type": "markdown",
   "metadata": {},
   "source": [
    "#### Create Vocabulary and Filter Text Data\n",
    "\n",
    "We create a vocabulary from the training set and remove words that occur most and least frequently."
   ]
  },
  {
   "cell_type": "code",
   "execution_count": 250,
   "metadata": {},
   "outputs": [
    {
     "name": "stdout",
     "output_type": "stream",
     "text": [
      "Most common: [('program', 2095), ('write', 1709), ('python', 1649), ('given', 735), ('list', 668), ('number', 538), ('array', 421), ('find', 412), ('numpy', 411), ('using', 404)]\n",
      "Unfiltered vocab length: 1717\n"
     ]
    }
   ],
   "source": [
    "x_train_text = [' '.join(tokens) for tokens in x_train]\n",
    "\n",
    "vocab_freq = Counter()\n",
    "for text in x_train_text:\n",
    "    words = text.split()  # Split the text into individual words\n",
    "    vocab_freq.update(words)\n",
    "\n",
    "print(f\"Most common: {vocab_freq.most_common(10)}\")\n",
    "print(f\"Unfiltered vocab length: {len(vocab_freq)}\")"
   ]
  },
  {
   "attachments": {},
   "cell_type": "markdown",
   "metadata": {},
   "source": [
    "To identify threshold values for the maximum and minimum word frequencies, we generate a plot to visaulize the cumulative frequency of word occurrences within the vocabulary."
   ]
  },
  {
   "cell_type": "code",
   "execution_count": 251,
   "metadata": {},
   "outputs": [
    {
     "data": {
      "image/png": "[encoded data removed]",
      "text/plain": [
       "<Figure size 640x480 with 1 Axes>"
      ]
     },
     "metadata": {},
     "output_type": "display_data"
    }
   ],
   "source": [
    "word_freq = np.array(list(vocab_freq.values()))\n",
    "word_freq_sorted = np.sort(word_freq)[::-1]  # Sort in descending order\n",
    "cumulative_freq = np.cumsum(word_freq_sorted)\n",
    "cumulative_freq_norm = cumulative_freq / cumulative_freq[-1]\n",
    "\n",
    "plt.plot(np.arange(1, len(cumulative_freq_norm) + 1), cumulative_freq_norm)\n",
    "plt.xlabel('Word Rank')\n",
    "plt.ylabel('Cumulative Frequency')\n",
    "plt.title('CDF of Word Frequencies')\n",
    "plt.grid(True)\n",
    "plt.show()\n"
   ]
  },
  {
   "attachments": {},
   "cell_type": "markdown",
   "metadata": {},
   "source": [
    "The word with the highest frequency has the lowest rank and vice versa. Steep region (low x values) indicates that few words occur very frequently. To be precise, top 250 words dominate approximately 85% of the total word frequency. The flatter region indicates that frequencies are more evenly distributed among a larger set of words. \n",
    "\n",
    "The min frequency cutoff represents the point where the most frequent words start to appear. Words to the left of this cutoff are considered to dominate the dataset in terms of frequency. Hence, we choose the min frequency cutoff as 50 and remove them.  \n",
    "\n",
    "The maximum frequency cutoff represents the point where the less frequent words are considered. Words to the right of this cutoff have relatively lower frequencies compared to the rest of the vocabulary. Hence, we choose this max frequency cutoff as 875."
   ]
  },
  {
   "cell_type": "code",
   "execution_count": 252,
   "metadata": {},
   "outputs": [
    {
     "name": "stdout",
     "output_type": "stream",
     "text": [
      "Min Freq: 1\n",
      "Max Freq: 269\n",
      "\n",
      "Filtered vocab length: 1703\n",
      "Filtered vocab: {'check': 152, 'dictionary': 155, 'calculate': 74, 'lcm': 5, 'two': 230, 'print': 269, 'alternate': 3, 'node': 20, 'linked': 52, 'without': 48, 'recursion': 82, 'sum': 121, 'series': 106, 'test': 27, 'whether': 83, 'passed': 2, 'letter': 37, 'vowel': 10, 'stack': 16, 'doubly': 11, 'get': 135, 'elementwise': 18, 'remainder': 2, 'division': 7, 'extract': 66, 'symmetric': 5, 'tuples': 39, 'length': 70, 'present': 41, 'column': 177, 'dataframe': 161, 'remove': 90, 'specific': 57, 'item': 60, 'retrieve': 6, 'html': 20, 'code': 18, 'title': 4, 'text': 40, 'parent': 2, 'rotate': 5, 'deque': 9, 'object': 63, 'specified': 124, 'positive': 25, 'time': 75, 'triplet': 4, 'closest': 2, 'return': 33, 'three': 31, 'integer': 84, 'script': 5, 'take': 15, 'input': 42, 'user': 19, 'display': 48, 'back': 1, 'upper': 17, 'lower': 18, 'case': 22, 'create': 252, 'mean': 20, 'standard': 5, 'deviation': 4, 'data': 42, 'ip': 5, 'address': 11, 'file': 97, 'full': 11, 'inverted': 15, 'pyramid': 18, 'pattern': 65, 'year': 36, 'month': 14, 'date': 62, 'lambda': 46, 'compute': 68, 'trigonometric': 1, 'sine': 5, 'cosine': 4, 'tangent': 3, 'angle': 2, 'degree': 5, 'maximum': 44, 'minimum': 31, 'shuffle': 5, 'deck': 1, 'card': 1, 'oops': 1, 'solve': 13, 'interval': 5, 'scheduling': 1, 'problem': 11, 'greedy': 4, 'algorithm': 17, 'rite': 9, 'current': 16, 'zone': 8, 'accepts': 20, 'sequence': 35, 'comma': 12, 'separated': 17, 'digit': 42, 'binary': 41, 'divisible': 10, 'sort': 132, 'bubble': 7, 'convert': 143, 'gray': 2, 'empty': 13, 'pivot': 23, 'table': 38, 'manager': 6, 'wise': 23, 'salesman': 1, 'total': 12, 'sale': 13, 'also': 19, 'amount': 11, 'bottom': 1, 'change': 18, 'name': 36, 'row': 117, 'index': 80, 'middle': 3, 'one': 60, 'traversal': 8, 'add': 38, 'prefix': 3, 'line': 40, 'start': 18, 'new': 38, 'process': 7, 'replacing': 1, 'vector': 20, 'ranging': 4, 'except': 7, 'first': 101, 'last': 43, 'character': 113, 'occurs': 5, 'second': 41, 'consists': 1, 'multitime': 1, 'occurring': 7, 'said': 17, 'property': 7, 'datetime': 32, 'function': 125, 'arrow': 37, 'module': 45, 'representing': 8, 'ceiling': 5, 'timespan': 3, 'timeframe': 6, 'like': 7, 'day': 31, 'hour': 17, 'minute': 11, 'negative': 17, 'every': 24, 'twice': 1, 'information': 11, 'o': 3, 'running': 3, 'triangular': 12, 'matrix': 112, 'condition': 12, 'nineteen': 1, 'thirteen': 1, 'split': 55, 'following': 26, 'dataset': 35, 'group': 53, 'order': 36, 'record': 19, 'consumption': 26, 'beverage': 4, 'per': 4, 'person': 4, 'average': 26, 'type': 17, 'beer': 1, 'wine': 2, 'spirit': 1, 'world': 22, 'alcohol': 23, 'duplicate': 34, 'arithmetic': 7, 'access': 9, 'path': 14, 'existence': 1, 'readability': 1, 'writability': 1, 'executability': 1, 'region': 11, 'man': 2, 'aggregated': 2, 'result': 9, 'within': 26, 'datasets': 4, 'currently': 1, 'listed': 1, 'datagov': 3, 'avoid': 1, 'occurrence': 33, 'delimitter': 1, 'reverse': 37, 'becomes': 1, 'insert': 17, 'finally': 2, 'selects': 1, 'next': 4, 'bigger': 4, 'rearranging': 1, 'prime': 12, 'n': 56, 'going': 5, 'filter': 23, 'whose': 12, 'contaons': 1, 'substring': 47, 'label': 5, 'floatingpoint': 4, 'count': 101, 'neon': 3, 'pronic': 2, 'word': 81, 'greater': 17, 'k': 21, 'multiple': 51, 'search': 33, 'tree': 27, 'insertion': 9, 'way': 15, 'odd': 26, 'even': 34, 'java': 9, 'c': 23, 'palindrome': 17, 'cartesian': 5, 'coordinate': 5, 'polar': 1, 'random': 57, 'numpyinner': 1, 'third': 10, 'missing': 20, 'sized': 3, 'chunk': 4, 'space': 19, 'key': 57, 'generate': 52, 'pangram': 2, 'valid': 2, 'pant': 2, 'shape': 31, 'star': 18, 'nonzero': 5, 'flat': 6, 'read': 38, 'csv': 32, 'true': 11, 'iterable': 8, 'longest': 11, 'round': 8, 'multiplied': 1, 'replace': 32, 'filled': 6, 'tuple': 53, 'xor': 3, 'operation': 14, 'define': 24, 'accept': 16, 'otherwise': 3, 'target': 2, 'unique': 32, 'stacked': 4, 'histogram': 7, 'plot': 22, 'opening': 7, 'closing': 9, 'high': 5, 'low': 5, 'stock': 13, 'price': 15, 'alphabet': 35, 'inc': 16, 'bin': 3, 'reduntant': 2, 'automate': 1, 'google': 3, 'chrome': 1, 'foxtrot': 1, 'append': 12, 'left': 15, 'right': 19, 'side': 3, 'float': 18, 'mixed': 7, 'datetimedatetime': 2, 'single': 23, 'put': 3, 'multiply': 18, 'operator': 16, 'sighting': 4, 'unidentified': 9, 'flying': 9, 'ufo': 11, 'detail': 5, 'age': 6, 'different': 25, 'map': 17, 'delimiter': 3, 'drop': 10, 'subtract': 6, 'timestamps': 3, 'pascal': 2, 'triangle': 6, 'skew': 1, 'nested': 26, 'summation': 6, 'generic': 2, 'gaussianlike': 1, 'content': 13, 'another': 33, 'writing': 3, 'iterate': 11, 'root': 7, 'collection': 6, 'least': 23, 'dimension': 17, 'class': 45, 'named': 7, 'subclass': 2, 'square': 37, 'init': 1, 'argument': 6, 'area': 26, 'default': 1, 'numpysqrt': 1, 'including': 3, 'sorted': 17, 'set': 45, 'permutation': 14, 'byte': 8, 'product': 23, 'fill': 5, 'checkerboard': 1, 'diamond': 13, 'variable': 22, 'frequency': 36, 'make': 13, 'iterator': 5, 'soon': 1, 'reported': 1, 'tag': 35, 'irrespective': 1, 'creating': 8, 'long': 1, 'hollow': 5, 'rectangle': 8, 'combining': 4, 'intraday': 1, 'offset': 1, 'signature': 1, 'cast': 2, 'provided': 12, 'capitalize': 6, 'uppercase': 10, 'contains': 30, 'combine': 11, 'corresponding': 6, 'onto': 1, 'bisect': 4, 'iterates': 2, 'fizz': 2, 'instead': 2, 'five': 8, 'buzz': 2, 'fizzbuzz': 2, 'grid': 2, 'hole': 2, 'dynamic': 11, 'programming': 11, 'bottomup': 6, 'approach': 6, 'sublist': 4, 'expression': 7, 'correctly': 1, 'parenthesized': 1, 'school': 4, 'min': 6, 'max': 7, 'customized': 1, 'ing': 2, 'end': 12, 'already': 3, 'ly': 1, 'le': 10, 'leave': 1, 'unchanged': 2, 'please': 29, 'randomly': 8, 'inclusive': 7, 'twodimensional': 4, 'select': 15, 'normal': 5, 'distribution': 7, 'frequent': 5, 'looping': 1, 'button': 4, 'tkinter': 15, 'floating': 2, 'precision': 1, 'unsorted': 10, 'strand': 1, 'removing': 11, 'delete': 11, 'representation': 17, 'utc': 6, 'parity': 1, 'outlier': 1, 'move': 12, 'ax': 4, 'position': 23, 'remain': 1, 'original': 8, 'kill': 1, 'perfect': 8, 'sieve': 2, 'eratosthenes': 2, 'method': 23, 'computing': 2, 'upto': 3, 'clear': 2, 'rightmost': 1, 'bit': 2, 'hexadecimal': 8, 'decimal': 19, 'horizontally': 2, 'document': 19, 'common': 26, 'scrape': 7, 'pdf': 2, 'website': 5, 'tab': 1, 'size': 32, 'widget': 4, 'potentially': 1, 'differentlyindexed': 1, 'dataframes': 9, 'interleave': 6, 'use': 44, 'itertools': 13, 'butterfly': 1, 'generator': 5, 'greatest': 1, 'divisor': 2, 'gcd': 5, 'qr': 2, 'decomposition': 4, 'implement': 38, 'ternary': 1, 'heap': 7, 'half': 16, 'survival': 6, 'gender': 7, 'category': 4, 'various': 7, 'nearest': 8, 'ith': 6, 'smallest': 19, 'expected': 2, 'linear': 7, 'octal': 10, 'pair': 28, 'circular': 5, 'unicode': 4, 'email': 3, 'epoch': 2, 'timestamp': 11, 'datetimeindex': 1, 'keyvalue': 10, 'staggered': 1, 'zero': 21, 'main': 1, 'diagonal': 13, 'compress': 2, 'decompress': 1, 'hello': 2, 'worldhello': 3, 'solid': 8, 'determine': 5, 'many': 7, 'recursively': 4, 'divide': 5, 'range': 42, 'equal': 27, 'duration': 1, 'kth': 10, 'concatenate': 11, 'yearmonth': 1, 'adding': 5, 'polynomial': 11, 'included': 16, 'permission': 1, 'owner': 4, 'device': 2, 'created': 1, 'modified': 2, 'accessed': 1, 'trimorphic': 3, 'filename': 5, 'containing': 14, 'cross': 4, 'send': 5, 'cooky': 2, 'server': 4, 'response': 5, 'absolute': 4, 'directly': 1, 'beneath': 2, 'distinct': 11, 'gnome': 3, 'difference': 23, 'aggregate': 2, 'factorial': 5, 'nonnegative': 5, 'appropriate': 1, 'message': 4, 'lexicographic': 4, 'rank': 3, 'multiline': 1, 'center': 1, 'aligned': 1, 'width': 6, 'subset': 9, 'counter': 8, 'output': 6, 'comprehension': 10, 'surface': 7, 'volume': 12, 'cone': 1, 'inner': 3, 'complex': 5, 'conjugation': 1, 'higher': 1, 'mark': 2, 'subject': 3, 'grade': 4, 'integral': 3, 'ii': 1, 'sunny': 3, 'rand': 1, 'whatevers': 1, 'inside': 5, 'iterables': 3, 'filtering': 3, 'reflecting': 2, 'runlength': 3, 'encoding': 2, 'ten': 14, 'four': 15, 'highlight': 7, 'color': 8, 'ascending': 5, 'according': 9, 'yes': 4, 'consecutive': 17, 'sixth': 2, 'excel': 19, 'sheet': 1, 'nan': 14, 'happy': 3, 'inversion': 2, 'presence': 1, 'axis': 14, 'controlling': 1, 'web': 14, 'browser': 2, 'restores': 1, 'reshaped': 1, 'blocksum': 1, 'block': 2, 'json': 18, 'custom': 6, 'nth': 30, 'hamming': 1, 'constant': 1, 'selected': 2, 'listbox': 1, 'bidirectional': 1, 'reporting': 2, 'lowercase': 12, 'inbuilt': 5, 'queue': 6, 'sentence': 7, 'intersection': 8, 'union': 1, 'groupby': 3, 'spy': 3, 'follows': 4, 'nonempty': 3, 'cylinder': 3, 'buffer': 5, 'written': 1, 'discard': 1, 'memory': 6, 'update': 5, 'assign': 2, 'userdefined': 2, 'typesmethodtype': 1, 'inerrable': 1, 'interchange': 4, 'graph': 16, 'enter': 2, 'basic': 4, 'salary': 2, 'gross': 1, 'employee': 3, 'equivalent': 2, 'computes': 3, 'aaaaaaaaaa': 1, 'fibonacci': 14, 'hyperbolic': 3, 'nonrepeated': 1, 'combination': 22, 'environment': 2, 'student': 9, 'management': 1, 'system': 2, 'starting': 11, 'charactersprefix': 1, 'comparison': 5, 'percentile': 3, 'median': 7, 'pertaining': 1, 'mode': 1, 'id': 20, 'inode': 1, 'protection': 1, 'hard': 1, 'link': 6, 'modification': 2, 'status': 1, 'keyboard': 1, 'anagram': 6, 'existing': 10, 'scalar': 2, 'knapsack': 3, 'memoization': 5, 'special': 8, 'iso': 8, 'week': 4, 'weekday': 5, 'formatted': 5, 'binet': 1, 'formula': 4, 'build': 6, 'simple': 6, 'autologin': 1, 'bot': 2, 'dijkstras': 1, 'shortest': 7, 'href': 1, 'natural': 9, 'logarithm': 2, 'plus': 1, 'accuracy': 1, 'harshad': 2, 'randomize': 1, 'returning': 2, 'window': 4, 'contain': 9, 'store': 8, 'decapitalize': 1, 'home': 2, 'directory': 12, 'larger': 3, 'x': 4, 'lowest': 3, 'pil': 1, 'image': 8, 'zip': 1, 'leading': 5, 'trailing': 1, 'whitespaces': 2, 'flattening': 1, 'truncation': 1, 'preserving': 1, 'city': 2, 'state': 2, 'country': 4, 'latitude': 3, 'longitude': 3, 'nominatim': 4, 'api': 4, 'geopy': 4, 'package': 4, 'subtraction': 4, 'singly': 7, 'border': 6, 'none': 4, 'enum': 1, 'alphabetically': 4, 'leap': 2, 'import': 14, 'employeexlsx': 5, 'based': 25, 'largest': 23, 'menu': 2, 'driven': 1, 'required': 2, 'software': 1, 'application': 1, 'mirror': 3, 'copy': 12, 'bfs': 7, 'keep': 3, 'height': 5, 'balanced': 1, 'bst': 2, 'clicked': 1, 'automorphic': 3, 'timeseries': 2, 'squared': 2, 'numbersdefault': 1, 'swap': 13, 'dot': 1, 'adjacent': 3, 'equality': 2, 'satisfies': 3, 'testing': 4, 'format': 15, 'cocktail': 3, 'shaker': 2, 'npeigvals': 1, 'production': 3, 'short': 1, 'ton': 1, 'numeric': 6, 'regex': 12, 'weighted': 3, 'choice': 2, 'binomial': 2, 'similar': 5, 'smaller': 8, 'capital': 4, 'centigrade': 2, 'fahrenheit': 3, 'stored': 3, 'conversion': 5, 'part': 6, 'filling': 1, 'null': 3, 'nonnull': 1, 'possible': 11, 'evenly': 4, 'distributed': 1, 'separate': 3, 'csvreader': 5, 'volatility': 1, 'period': 9, 'biggest': 1, 'anticlockwise': 1, 'direction': 3, 'getting': 4, 'since': 1, 'startup': 1, 'term': 2, 'catalan': 1, 'microsecond': 3, 'survivor': 1, 'rate': 5, 'grouped': 2, 'uncommon': 3, 'parse': 2, 'rangoli': 1, 'style': 3, 'example': 2, 'attribute': 2, 'nnumbers': 1, 'requires': 1, 'username': 1, 'password': 8, 'register': 1, 'validity': 1, 'criterion': 3, 'checking': 1, 'az': 2, 'transaction': 4, 'match': 3, 'printed': 5, 'along': 15, 'winner': 1, 'election': 1, 'bellmanford': 1, 'save': 5, 'compressed': 1, 'npz': 1, 'load': 2, 'cycle': 7, 'give': 3, 'visit': 1, 'broken': 1, 'site': 1, 'exist': 4, 'language': 1, 'related': 1, 'article': 1, 'appear': 3, 'wikipediaorg': 1, 'sublists': 7, 'commaseparated': 6, 'console': 17, 'cjavacpython': 2, 'xnn': 2, 'rod': 2, 'cutting': 2, 'include': 2, 'msha': 4, 'exists': 6, 'regardless': 2, 'stringsnumbers': 1, 'numerically': 1, 'bogosort': 2, 'paragraph': 2, 'disarium': 1, 'sorting': 10, 'level': 5, 'multilevel': 1, 'finiteness': 2, 'infinity': 6, 'centered': 1, 'leftjustified': 1, 'rightjustified': 1, 'padding': 2, 'numpynanmean': 1, 'extend': 1, 'woman': 2, 'men': 2, 'particular': 7, 'cabin': 2, 'timezone': 8, 'local': 4, 'folder': 4, 'header': 7, 'provide': 1, 'deletion': 4, 'scatter': 1, 'trading': 3, 'volumestock': 1, 'flatten': 6, 'shallow': 4, 'observation': 1, 'leaf': 3, 'indentation': 2, 'url': 2, 'babylonian': 1, 'clean': 2, 'pythonic': 1, 'constructor': 1, 'execute': 2, 'pancake': 1, 'numpyrandomlaplace': 1, 'swapping': 3, 'mapping': 5, 'taking': 2, 'mmddyyyy': 1, 'rename': 2, 'numpypercentile': 1, 'consonant': 2, 'page': 18, 'assigning': 1, 'subsequent': 1, 'applying': 4, 'bitonic': 1, 'distance': 9, 'london': 1, 'york': 1, 'pack': 1, 'circularly': 1, 'identical': 1, 'newline': 1, 'member': 3, 'source': 3, 'child': 4, 'request': 3, 'raw': 2, 'socket': 1, 'z': 2, 'ascii': 4, 'multiplication': 7, 'additional': 2, 'multidimensional': 4, 'configure': 3, 'rounding': 3, 'tie': 3, 'towards': 1, 'away': 1, 'highest': 2, 'inorder': 4, 'postorder': 1, 'subtotal': 1, 'labor': 1, 'base': 5, 'reshape': 1, 'stackunstack': 1, 'melt': 1, 'power': 6, 'obtained': 2, 'transpose': 2, 'armstrong': 5, 'bytearray': 1, 'zeroed': 1, 'uniform': 2, 'graphical': 2, 'analysis': 2, 'temperature': 3, 'celcius': 1, 'covert': 1, 'farenheit': 1, 'indicated': 1, 'selector': 1, 'working': 4, 'visualize': 3, 'shell': 1, 'customer': 6, 'purchase': 5, 'disjoint': 2, 'matrixtake': 1, 'variance': 3, 'extra': 1, 'modulo': 1, 'radix': 2, 'perimeter': 8, 'heptagon': 1, 'small': 2, 'double': 3, 'quote': 3, 'creation': 1, 'cube': 6, 'localized': 2, 'humanized': 2, 'relative': 2, 'usage': 1, 'datasheets': 1, 'holiday': 2, 'u': 3, 'federal': 1, 'calendar': 2, 'identity': 5, 'cumulative': 4, 'comparing': 2, 'bar': 7, 'pairing': 1, 'flattened': 3, 'may': 2, 'daily': 4, 'percentage': 4, 'gradient': 1, 'repeated': 8, 'numpyrandomgeometric': 1, 'extension': 3, 'p': 4, 'switch': 1, 'selenium': 10, 'cuboid': 1, 'subsequence': 1, 'potential': 1, 'loop': 9, 'view': 1, 'entry': 3, 'instance': 2, 'parameter': 2, 'evaluate': 3, 'einstein': 2, 'convention': 2, 'elementbyelement': 1, 'choose': 1, 'probability': 2, 'encoded': 3, 'field': 4, 'non': 3, 'magic': 3, 'douglas': 1, 'repetition': 2, 'grouping': 4, 'download': 2, 'validate': 1, 'randomsample': 1, 'comb': 3, 'alphabetical': 5, 'detect': 3, 'point': 9, 'need': 3, 'vertically': 2, 'construct': 6, 'represent': 3, 'decimaldecimal': 2, 'constructed': 3, 'php': 1, 'compound': 1, 'interest': 3, 'unix': 1, 'readable': 1, 'dict': 2, 'narraylists': 2, 'calculates': 1, 'q': 1, 'dh': 1, 'fixed': 2, 'h': 2, 'indexvalue': 1, 'nonnumeric': 3, 'fixedfrequency': 1, 'span': 1, 'explicitly': 1, 'datatype': 1, 'pretty': 2, 'join': 10, 'sqlite': 6, 'encode': 1, 'decode': 2, 'made': 2, 'heatmap': 1, 'spaced': 3, 'log': 3, 'scale': 1, 'exclusive': 1, 'recursive': 3, 'br': 1, 'arbitrary': 2, 'builtin': 6, 'know': 1, 'online': 1, 'book': 2, 'ab': 1, 'int': 2, 'undirected': 5, 'matrixtolist': 1, 'atxt': 1, 'btxt': 1, 'ztxt': 1, 'whitespace': 2, 'alphanumerically': 3, 'defined': 3, 'concatenated': 1, 'listlistoflists': 1, 'numpyvar': 2, 'location': 3, 'look': 2, 'autocorrelations': 1, 'composed': 4, 'hhmm': 1, 'latest': 1, 'proleptic': 2, 'gregorian': 2, 'ordinal': 2, 'heterogram': 1, 'sphere': 3, 'merge': 11, 'naïve': 2, 'suppresses': 1, 'scientific': 2, 'notation': 1, 'fetch': 1, 'either': 1, 'thursday': 1, 'linkedin': 1, 'beautiful': 1, 'soup': 1, 'longer': 1, 'nonunique': 2, 'filtered': 2, 'compare': 4, 'unordered': 2, 'trace': 4, 'hemisphere': 1, 'limiting': 1, 'rowwise': 2, 'addition': 4, 'sliced': 1, 'hashed': 1, 'unit': 2, 'sold': 3, 'stackswitcher': 1, 'gtk': 1, 'visualizing': 1, 'quick': 3, 'oddeven': 3, 'transposition': 2, 'raise': 1, 'runtimeerror': 1, 'exception': 2, 'business': 3, 'quarterly': 2, 'begin': 2, 'strong': 4, 'finding': 3, 'limited': 1, 'selection': 4, 'ie': 1, 'rest': 1, 'converting': 1, 'phone': 1, 'topological': 2, 'directed': 2, 'acyclic': 1, 'dfs': 6, 'yearly': 1, 'spanning': 1, 'prims': 1, 'must': 3, 'rabin': 1, 'karp': 1, 'dividing': 1, 'male': 4, 'female': 4, 'getgender': 1, 'converted': 2, 'floor': 4, 'form': 12, 'exchanged': 2, 'floydwarshall': 1, 'repeating': 2, 'classic': 1, 'ancient': 1, 'chinese': 1, 'puzzle': 1, 'head': 1, 'leg': 1, 'among': 1, 'chicken': 2, 'rabbit': 2, 'farm': 1, 'hint': 1, 'nonrepeating': 2, 'gui': 2, 'calculator': 2, 'locally': 1, 'installed': 1, 'sunday': 1, 'multiindex': 3, 'removed': 1, 'till': 1, 'heterogeneous': 2, 'stooge': 1, 'rearrange': 3, 'associated': 1, 'ending': 1, 'characterssuffix': 1, 'depth': 2, 'post': 1, 'ndarray': 2, 'controlled': 2, 'explicit': 2, 'pythagorean': 1, 'run': 1, 'operating': 1, 'command': 1, 'lowertriangular': 1, 'l': 2, 'cholesky': 1, 'webpage': 2, 'pythonorg': 2, 'counting': 1, 'cloned': 2, 'daryheap': 1, 'indexing': 1, 'math': 2, 'scraping': 5, 'reddit': 1, 'beautifulsoup': 1, 'hash': 2, 'attached': 1, 'twitter': 1, 'truncated': 2, 'summarize': 1, 'rear': 1, 'satisfied': 1, 'dictioneries': 1, 'combined': 1, 'today': 1, 'priority': 3, 'successive': 1, 'monday': 1, 'subdirectory': 1, 'dirs': 1, 'collapse': 2, 'drawn': 1, 'breadthfirst': 1, 'represents': 2, 'whole': 2, 'minus': 2, 'multiplying': 1, 'symbol': 1, 'matrixmax': 1, 'panagram': 1, 'previous': 2, 'perform': 4, 'deep': 3, 'flattens': 1, 'dir': 1, 'moving': 4, 'randn': 1, 'descendant': 1, 'body': 1, 'sign': 5, 'lableframe': 1, 'news': 2, 'hex': 1, 'randomrandint': 1, 'symmetrical': 1, 'computed': 1, 'brick': 1, 'top': 5, 'sighted': 3, 'v': 3, 'matrixround': 1, 'equation': 1, 'coefficient': 3, 'elsewhere': 2, 'lru': 1, 'cache': 1, 'ordereddict': 3, 'threedimension': 2, 'unsigned': 3, 'numpyswapaxes': 1, 'ended': 1, 'slicing': 2, 'library': 1, 'itemgetter': 1, 'digitcharacter': 1, 'blank': 3, 'terminate': 1, 'report': 1, 'draw': 2, 'ctime': 1, 'examplecom': 1, 'unitlength': 1, 'closed': 1, 'multithreaded': 1, 'subtracting': 1, 'shorthand': 1, 'strongest': 1, 'neighbour': 1, 'continuously': 1, 'partition': 4, 'remaining': 1, 'television': 1, 'theater': 1, 'alter': 2, 'structure': 3, 'hyphenseparated': 2, 'changing': 1, 'colour': 5, 'handling': 1, 'patience': 1, 'chose': 2, 'contained': 1, 'see': 1, 'sample': 1, 'solutiona': 1, 'atleast': 1, 'li': 1, 'reversing': 1, 'descending': 1, 'faster': 1, 'infinite': 3, 'copycopy': 4, 'contiguous': 2, 'quotient': 1, 'numbering': 1, 'saveit': 1, 'storing': 1, 'descendingascending': 1, 'shop': 1, 'imdb': 1, 'movie': 1, 'rating': 1, 'harmonic': 1, 'unixepoch': 1, 'regular': 2, 'stamp': 1, 'appears': 3, 'satisfying': 1, 'american': 2, 'static': 1, 'called': 1, 'printnationality': 1, 'eigenvalue': 2, 'eigenvectors': 2, 'shift': 1, 'evil': 3, 'dtypes': 1, 'native': 1, 'open': 2, 'together': 3, 'numpywhere': 1, 'aggregation': 2, 'inverse': 5, 'matrixchain': 1, 'nlargest': 1, 'hierarchy': 1, 'western': 1, 'pacific': 1, 'vietnam': 1, 'concise': 1, 'summary': 1, 'titaniccsv': 2, 'periodindex': 1, 'action': 1, 'lost': 1, 'duplicated': 1, 'manipulation': 1, 'determinant': 3, 'iloc': 1, 'iat': 1, 'lucky': 1, 'circle': 4, 'fourth': 4, 'overuse': 1, 'america': 1, 'europe': 2, 'exactly': 1, 'appearance': 2, 'al': 1, 'daylight': 2, 'saving': 3, 'adjustment': 2, 'tolerance': 2, 'dimensional': 2, 'forty': 2, 'pseudorandomly': 1, 'generated': 1, 'simultaneously': 1, 'usn': 1, 'outside': 2, 'timsort': 1, 'implementation': 2, 'mirrored': 1, 'skipping': 1, 'twenty': 1, 'selecting': 2, 'retweet': 1, 'tweet': 1, 'backup': 1, 'database': 1, 'place': 2, 'front': 3, 'real': 4, 'interpolate': 1, 'interpolation': 1, 'revers': 1, 'euler': 1, 'e': 2, 'mapped': 1, 'historical': 1, 'pearson': 2, 'productmoment': 2, 'correlation': 2, 'increasing': 4, 'hcf': 1, 'heart': 2, 'chain': 1, 'decorator': 1, 'bold': 1, 'italic': 1, 'underline': 1, 'etc': 2, 'char': 3, 'appearing': 1, 'fifth': 2, 'evaluates': 2, 'ration': 1, 'flashcard': 1, 'beginning': 7, 'immediately': 2, 'valuable': 1, 'readonly': 1, 'symbolic': 1, 'decide': 1, 'pointed': 1, 'updating': 1, 'abundant': 2, 'underscore': 1, 'identification': 1, 'vertex': 1, 'unweighted': 1, 'collatz': 1, 'conjecture': 1, 'rogram': 1, 'recently': 1, 'added': 2, 'serial': 1, 'mergeinsertion': 1, 'exchange': 1, 'temporary': 1, 'randomchoice': 2, 'palindromic': 2, 'rhombus': 1, 'interpreting': 1, 'machine': 2, 'seed': 2, 'randomrandom': 1, 'depthfirst': 1, 'xx': 1, 'numerical': 2, 'complexity': 2, 'rowcolumns': 1, 'lexicographical': 1, 'initial': 4, 'final': 1, 'alpha': 1, 'sparse': 2, 'majority': 1, 'fare': 3, 'curve': 1, 'matplotlib': 1, 'dstack': 1, 'found': 4, 'false': 2, 'randomshuffle': 1, 'consumed': 1, 'sector': 1, 'march': 1, 'bucket': 1, 'transitive': 1, 'closure': 1, 'complete': 1, 'frobenius': 1, 'norm': 3, 'neighboured': 1, 'execution': 1, 'unequal': 1, 'eg': 1, 'matrixmean': 1, 'xy': 1, 'generates': 2, 'jth': 1, 'ij': 1, 'note': 1, 'weight': 1, 'net': 1, 'bank': 1, 'account': 1, 'shown': 3, 'w': 2, 'deposit': 1, 'withdrawal': 1, 'npcharendswith': 1, 'adjusted': 3, 'exponential': 1, 'satisfy': 1, 'passenger': 1, 'hourly': 2, 'nums': 1, 'isoformat': 1, 'close': 1, 'six': 2, 'excluded': 1, 'query': 1, 'skip': 3, 'kronecker': 1, 'multidimension': 1, 'story': 1, 'chart': 1, 'repetitive': 2, 'factor': 5, 'singular': 1, 'speed': 1, 'kmhr': 1, 'scoring': 1, 'ea': 1, 'raised': 1, 'performs': 1, 'become': 3, 'syntax': 1, 'description': 1, 'certain': 3, 'guessing': 1, 'game': 1, 'timedelta': 1, 'unless': 1, 'exact': 1, 'hrefeditorgo': 1, 'editora': 1, 'separator': 1, 'threedimensional': 1, 'amicable': 2, 'newyorker': 1, 'numpyhistogram': 1, 'radius': 2, 'ordered': 1, 'consist': 1, 'people': 1, 'visiting': 1, 'government': 1, 'nat': 1, 'similarity': 1, 'thirty': 1, 'desired': 1, 'outer': 2, 'wrap': 2, 'typesfunctiontype': 1, 'typeslambdatype': 1, 'threeelement': 1, 'strictly': 2, 'moreover': 1, 'still': 1, 'consider': 1, 'strip': 1, 'large': 1, 'expanded': 1, 'snake': 1, 'demonstrate': 1, 'info': 2, 'shellsort': 1, 'around': 2, 'fractional': 1, 'cs': 1, 'sibling': 1, 'randomuniform': 1, 'destroy': 1, 'radian': 1, 'monthly': 2, 'scope': 1, 'onedimensional': 1, 'exclusiveor': 2, 'allowed': 1, 'invert': 2, 'hashable': 3, 'covariance': 1, 'metric': 1, 'comment': 1, 'indicate': 1, 'reachable': 2, 'concatenating': 1, 'go': 1, 'occur': 1, 'substituting': 1, 'typesgeneratortype': 1, 'celsius': 2, 'retain': 1, 'alphabetic': 1, 'subarray': 2, 'mine': 1, 'actual': 1, 'ordereddictionary': 1, 'subarrays': 1, 'truefalse': 1, 'signbit': 1, 'making': 1, 'capitalized': 1, 'euclidean': 3, 'across': 2, 'wiggle': 1, 'solo': 1, 'boarding': 1, 'port': 1, 'embarkation': 1, 'receive': 1, 'reserved': 1, 'portion': 1, 'youtube': 1, 'unknown': 2, 'reset': 1, 'poor': 2, 'notpoor': 1, 'good': 1, 'resulting': 1, 'white': 1, 'singledimensional': 1, 'robot': 3, 'plane': 1, 'toward': 1, 'step': 4, 'movement': 2, 'ââ': 1, 'numpysearchsorted': 1, 'declared': 1, 'africa': 1, 'eastern': 1, 'mediterranean': 1, 'exceptional': 1, 'subtree': 1, 'rather': 1, 'initialize': 1, 'numpysqueeze': 1, 'increase': 1, 'edge': 1, 'statement': 2, 'bigram': 1, 'excluding': 3, 'randomrandrange': 1, 'illustrate': 1, 'serve': 2, 'normalize': 1, 'mathematic': 1, 'evaluation': 1, 'connected': 2, 'component': 2, 'powerset': 1, 'hyphen': 1, 'used': 1, 'hold': 1, 'aggregating': 1, 'progression': 1, 'limit': 1, 'rearrangement': 1, 'resize': 1, 'combo': 1, 'imaginary': 1, 'nnnnnn': 1, 'verb': 1, 'play': 1, 'love': 1, 'hockeyfootball': 1, 'indeed': 1, 'job': 1, 'taken': 1, 'magnitude': 1, 'longs': 1, 'parenthesis': 1, 'eliminate': 1, 'xxx': 1, 'getstring': 1, 'printstring': 1, 'entire': 1, 'yellow': 1, 'matrixsort': 1, 'heapdict': 1, 'background': 1, 'optionmenu': 1, 'nn': 1, 'deques': 1, 'defining': 1, 'runtime': 1, 'parallel': 1, 'heapsort': 1, 'available': 1, 'b': 1, 'old': 1, 'break': 1, 'plain': 1, 'container': 1, 'repeat': 1, 'timewheel': 1, 'dequeue': 1, 'trapezoid': 2, 'punctuation': 2, 'reciprocal': 1, 'verify': 2, 'copying': 1, 'ranking': 1, 'primary': 1, 'backwards': 1, 'lie': 1, 'cell': 1, 'johnson': 1, 'numpymoveaxis': 1, 'discriminant': 1, 'vice': 1, 'versa': 1, 'override': 1, 'else': 1, 'minimize': 1, 'lateness': 1, 'nsmallest': 1, 'kadanes': 1, 'adult': 2, 'holding': 1, 'hitmap': 1, 'wrapper': 1, 'timezoneaware': 1, 'boundary': 1, 'fraction': 1, 'assuming': 1, 'usernamecompanynamecom': 1, 'company': 1, 'rabinkarp': 1, 'searching': 1, 'neighboring': 1, 'prepend': 1, 'internal': 1, 'bipartite': 1, 'centimeter': 1, 'foot': 1, 'inch': 1, 'reindexing': 1, 'hexagon': 1, 'changed': 1, 'touching': 1, 'spacefor': 1, 'assert': 1, 'call': 1, 'pentagon': 1, 'retrieves': 1, 'arbitary': 1, 'wikipedia': 1, 'creates': 1, 'losing': 1}\n",
      "\n",
      "69      [write, python, program, check, value, diction...\n",
      "3000               [program, calculate, lcm, two, number]\n",
      "2893    [python, program, print, alternate, node, link...\n",
      "2954                 [python, program, find, sum, series]\n",
      "436     [write, python, program, test, whether, passed...\n",
      "Name: Problem, dtype: object\n"
     ]
    }
   ],
   "source": [
    "# Filter out low and high frequency tokens\n",
    "min_rank_cutoff = 15\n",
    "max_rank_cutoff = 1000\n",
    "\n",
    "# Convert the cutoff values in terms of rank to the actual frequency values\n",
    "min_freq = word_freq_sorted[max_rank_cutoff - 1]  # -1 since 0-based indexing\n",
    "max_freq = word_freq_sorted[min_rank_cutoff - 1]  \n",
    "print(f\"Min Freq: {min_freq}\\nMax Freq: {max_freq}\\n\")\n",
    "        \n",
    "vocab = {token: freq for token, freq in vocab_freq.items() if min_freq <= freq <= max_freq}\n",
    "vocab_length = len(vocab)\n",
    "\n",
    "print(f\"Filtered vocab length: {vocab_length}\")\n",
    "print(f\"Filtered vocab: {vocab}\\n\")\n",
    "\n",
    "print(x_train.head())"
   ]
  },
  {
   "attachments": {},
   "cell_type": "markdown",
   "metadata": {},
   "source": [
    "We then filter the training and test sets based on the filtered vocabulary."
   ]
  },
  {
   "cell_type": "code",
   "execution_count": 253,
   "metadata": {},
   "outputs": [
    {
     "data": {
      "text/plain": [
       "69                                   check dictionary\n",
       "3000                                calculate lcm two\n",
       "2893    print alternate node linked without recursion\n",
       "2954                                       sum series\n",
       "436                  test whether passed letter vowel\n",
       "dtype: object"
      ]
     },
     "execution_count": 253,
     "metadata": {},
     "output_type": "execute_result"
    }
   ],
   "source": [
    "def filter_freq(data, vocab):\n",
    "    filtered_data = []\n",
    "    for line in data:\n",
    "        filtered = ' '.join([token for token in line if token in vocab])\n",
    "        filtered_data.append(filtered)\n",
    "\n",
    "    filtered_data = pd.Series(filtered_data, index=data.index)\n",
    "    \n",
    "    return filtered_data\n",
    "\n",
    "\n",
    "x_train = filter_freq(x_train, vocab)\n",
    "x_test = filter_freq(x_test, vocab)\n",
    "\n",
    "x_train.head()"
   ]
  },
  {
   "attachments": {},
   "cell_type": "markdown",
   "metadata": {},
   "source": [
    "### Preprocess Code Data"
   ]
  },
  {
   "attachments": {},
   "cell_type": "markdown",
   "metadata": {},
   "source": [
    "We then preprocess Python source code by tokenizing it and then filtering out tokens that are not relevant for further analysis."
   ]
  },
  {
   "cell_type": "code",
   "execution_count": 254,
   "metadata": {},
   "outputs": [
    {
     "name": "stdout",
     "output_type": "stream",
     "text": [
      "Number of skipped rows: 5\n"
     ]
    },
    {
     "data": {
      "text/plain": [
       "0    [import, numpy, as, np, x, =, np, ., repeat, (...\n",
       "1    [def, printValues, (, ), :, l, =, list, (, ), ...\n",
       "2    [import, itertools, num, =, [, [, 10, ,, 20, ]...\n",
       "3    [import, numpy, as, np, import, matplotlib, .,...\n",
       "4    [import, sqlite3, from, sqlite3, import, Error...\n",
       "Name: Python Code, dtype: object"
      ]
     },
     "execution_count": 254,
     "metadata": {},
     "output_type": "execute_result"
    }
   ],
   "source": [
    "def preprocess_code_data(code):\n",
    "    # Convert code to format accepted by Python's own tokenizer that can read Python syntax\n",
    "    tokens = tokenize.generate_tokens(io.StringIO(code).readline)\n",
    "\n",
    "    tokenized_code = []\n",
    "    try: \n",
    "        for token in tokens:\n",
    "            # Include only the code tokens and exclude space, commets etc.\n",
    "            if token.type in (tokenize.NAME, tokenize.OP, tokenize.NUMBER, tokenize.STRING):\n",
    "                tokenized_code.append(token.string)\n",
    "    \n",
    "    # Skip code that ends with an error, e.g. missing some closing brackets.\n",
    "    except tokenize.TokenError:\n",
    "        return None\n",
    "    except IndentationError:\n",
    "        return None\n",
    "    \n",
    "    return tokenized_code\n",
    "\n",
    "preprocessed['Python Code'] = preprocessed['Python Code'].apply(preprocess_code_data)\n",
    "\n",
    "skipped_rows = preprocessed['Python Code'].isnull().sum()\n",
    "\n",
    "print(f\"Number of skipped rows: {skipped_rows}\")\n",
    "\n",
    "preprocessed['Python Code'].head()"
   ]
  },
  {
   "attachments": {},
   "cell_type": "markdown",
   "metadata": {},
   "source": [
    "We eliminate the rows that were excluded due to improperly formatted or incorrectly structured code and save the resulting file as a CSV."
   ]
  },
  {
   "cell_type": "code",
   "execution_count": 255,
   "metadata": {},
   "outputs": [
    {
     "name": "stdout",
     "output_type": "stream",
     "text": [
      "Data shape: (3301, 2)\n"
     ]
    },
    {
     "data": {
      "text/html": [
       "<div>\n",
       "<style scoped>\n",
       "    .dataframe tbody tr th:only-of-type {\n",
       "        vertical-align: middle;\n",
       "    }\n",
       "\n",
       "    .dataframe tbody tr th {\n",
       "        vertical-align: top;\n",
       "    }\n",
       "\n",
       "    .dataframe thead th {\n",
       "        text-align: right;\n",
       "    }\n",
       "</style>\n",
       "<table border=\"1\" class=\"dataframe\">\n",
       "  <thead>\n",
       "    <tr style=\"text-align: right;\">\n",
       "      <th></th>\n",
       "      <th>Problem</th>\n",
       "      <th>Python Code</th>\n",
       "    </tr>\n",
       "  </thead>\n",
       "  <tbody>\n",
       "    <tr>\n",
       "      <th>0</th>\n",
       "      <td>[write, numpy, program, repeat, element, array]</td>\n",
       "      <td>[import, numpy, as, np, x, =, np, ., repeat, (...</td>\n",
       "    </tr>\n",
       "    <tr>\n",
       "      <th>1</th>\n",
       "      <td>[write, python, function, create, print, list,...</td>\n",
       "      <td>[def, printValues, (, ), :, l, =, list, (, ), ...</td>\n",
       "    </tr>\n",
       "    <tr>\n",
       "      <th>2</th>\n",
       "      <td>[write, python, program, remove, duplicate, li...</td>\n",
       "      <td>[import, itertools, num, =, [, [, 10, ,, 20, ]...</td>\n",
       "    </tr>\n",
       "    <tr>\n",
       "      <th>3</th>\n",
       "      <td>[write, numpy, program, compute, x, coordinate...</td>\n",
       "      <td>[import, numpy, as, np, import, matplotlib, .,...</td>\n",
       "    </tr>\n",
       "    <tr>\n",
       "      <th>4</th>\n",
       "      <td>[write, python, program, alter, given, sqlite,...</td>\n",
       "      <td>[import, sqlite3, from, sqlite3, import, Error...</td>\n",
       "    </tr>\n",
       "  </tbody>\n",
       "</table>\n",
       "</div>"
      ],
      "text/plain": [
       "                                             Problem   \n",
       "0    [write, numpy, program, repeat, element, array]  \\\n",
       "1  [write, python, function, create, print, list,...   \n",
       "2  [write, python, program, remove, duplicate, li...   \n",
       "3  [write, numpy, program, compute, x, coordinate...   \n",
       "4  [write, python, program, alter, given, sqlite,...   \n",
       "\n",
       "                                         Python Code  \n",
       "0  [import, numpy, as, np, x, =, np, ., repeat, (...  \n",
       "1  [def, printValues, (, ), :, l, =, list, (, ), ...  \n",
       "2  [import, itertools, num, =, [, [, 10, ,, 20, ]...  \n",
       "3  [import, numpy, as, np, import, matplotlib, .,...  \n",
       "4  [import, sqlite3, from, sqlite3, import, Error...  "
      ]
     },
     "execution_count": 255,
     "metadata": {},
     "output_type": "execute_result"
    }
   ],
   "source": [
    "# Remove NA\n",
    "preprocessed.dropna(subset=['Problem', 'Python Code'], inplace=True)  # remove any rows with missing values\n",
    "preprocessed.reset_index(drop=True, inplace=True)\n",
    "print(f\"Data shape: {preprocessed.shape}\")\n",
    "\n",
    "# Save preprocessed data\n",
    "if not os.path.exists(preprocessed_folder):\n",
    "    os.makedirs(preprocessed_folder)\n",
    "\n",
    "path = os.path.join(preprocessed_folder, preprocessed_file)\n",
    "preprocessed.to_csv(path, sep=',', index_label='Id')\n",
    "\n",
    "preprocessed.head()"
   ]
  },
  {
   "attachments": {},
   "cell_type": "markdown",
   "metadata": {},
   "source": [
    "## Vectorize"
   ]
  },
  {
   "attachments": {},
   "cell_type": "markdown",
   "metadata": {},
   "source": [
    "### Encode dataset"
   ]
  },
  {
   "attachments": {},
   "cell_type": "markdown",
   "metadata": {},
   "source": [
    "We first tokenize the training set and find the maximum length of description data."
   ]
  },
  {
   "cell_type": "code",
   "execution_count": 260,
   "metadata": {},
   "outputs": [
    {
     "name": "stdout",
     "output_type": "stream",
     "text": [
      "Max seq length: 47\n"
     ]
    }
   ],
   "source": [
    "tokenizer = Tokenizer()\n",
    "tokenizer.filters = \"\"  # Remove default filters\n",
    "tokenizer.lower = False  \n",
    "tokenizer.fit_on_texts(x_train) \n",
    "\n",
    "# Find maximum sequence length\n",
    "max_seq_len = max([len(line.split()) for line in x_train])\n",
    "print(f'Max seq length: {max_seq_len}')"
   ]
  },
  {
   "attachments": {},
   "cell_type": "markdown",
   "metadata": {},
   "source": [
    "We then integer encode and pad the sequences to encode the data."
   ]
  },
  {
   "cell_type": "code",
   "execution_count": 261,
   "metadata": {},
   "outputs": [
    {
     "name": "stdout",
     "output_type": "stream",
     "text": [
      "Train shape: (2644, 47)\n",
      "Test shape: (662, 47)\n",
      "Train shape: (2644, 47)\n",
      "Test shape: (662, 47)\n",
      "x_train_encoded: [[  7   6   0 ...   0   0   0]\n",
      " [ 28 401   3 ...   0   0   0]\n",
      " [  1 565 138 ...   0   0   0]\n",
      " ...\n",
      " [  2   6   3 ...   0   0   0]\n",
      " [  2   5 204 ...   0   0   0]\n",
      " [ 71 590  10 ...   0   0   0]]\n"
     ]
    }
   ],
   "source": [
    "def encode_data(text_line, max_len, tokenizer):\n",
    "    encoded = tokenizer.texts_to_sequences(text_line)\n",
    "    padded = pad_sequences(encoded, maxlen=max_len, padding='post')\n",
    "\n",
    "    return padded\n",
    "\n",
    "# Encode Data\n",
    "x_train_encoded = encode_data(x_train, max_seq_len, tokenizer)\n",
    "x_test_encoded = encode_data(x_test, max_seq_len, tokenizer)\n",
    "y_train_encoded = encode_data(y_train, max_seq_len, tokenizer)\n",
    "y_test_encoded = encode_data(y_test, max_seq_len, tokenizer)\n",
    "\n",
    "print(f\"Train shape: {x_train_encoded.shape}\")\n",
    "print(f\"Test shape: {x_test_encoded.shape}\")\n",
    "print(f\"Train shape: {y_train_encoded.shape}\")\n",
    "print(f\"Test shape: {y_test_encoded.shape}\")\n",
    "print(f\"x_train_encoded: {x_train_encoded}\")"
   ]
  },
  {
   "attachments": {},
   "cell_type": "markdown",
   "metadata": {},
   "source": [
    "### Word2Vec"
   ]
  },
  {
   "attachments": {},
   "cell_type": "markdown",
   "metadata": {},
   "source": [
    "We load a pretrained Word2Vec embedding model and build a embedding matrix based on the words in our tokenized training set."
   ]
  },
  {
   "cell_type": "code",
   "execution_count": 264,
   "metadata": {},
   "outputs": [
    {
     "name": "stdout",
     "output_type": "stream",
     "text": [
      "Loading w2v model...\n"
     ]
    }
   ],
   "source": [
    "DIM = 50\n",
    "\n",
    "def load_embedding():\n",
    "    file_path = os.path.join(preprocessed_folder, pretrained_w2v_file)\n",
    "    if not os.path.exists(file_path):\n",
    "        print(\"Downloading model...\")\n",
    "        model = api.load(\"glove-wiki-gigaword-50\")\n",
    "        model.save_word2vec_format(file_path, binary=False)\n",
    "    # else\n",
    "    print(\"Loading w2v model...\")\n",
    "    file = open(file_path, 'r', encoding='utf8')\n",
    "    lines = file.readlines()[1:]\n",
    "    file.close()\n",
    "    \n",
    "    # Map words to vectors\n",
    "    embedding = dict()\n",
    "    for line in lines:\n",
    "        parts = line.split()\n",
    "        # key is string word, value is numpy array for vector\n",
    "        embedding[parts[0]] = asarray(parts[1:], dtype='float32')\n",
    "\n",
    "    return embedding\n",
    "\n",
    "\n",
    "loaded_embedding = load_embedding()"
   ]
  },
  {
   "cell_type": "code",
   "execution_count": 263,
   "metadata": {},
   "outputs": [
    {
     "name": "stdout",
     "output_type": "stream",
     "text": [
      "NA/All words: 218/1703\n",
      "matrix shape: (1704, 50)\n"
     ]
    }
   ],
   "source": [
    "def build_matrix(embedding, tokenizer):\n",
    "    # Build an embedding matrix\n",
    "    total_count = 0\n",
    "    na_count = 0\n",
    "    \n",
    "    matrix = np.zeros((vocab_length + 1, DIM)) # +1 for unknown words\n",
    "    for token, i in tokenizer.word_index.items():\n",
    "        if token in embedding.keys():\n",
    "            matrix[i] = embedding.get(token)\n",
    "        else:\n",
    "            na_count += 1\n",
    "        total_count += 1\n",
    "    print(f'NA/All words: {str(na_count)}/{total_count}')\n",
    "    print(f\"matrix shape: {matrix.shape}\")\n",
    "\n",
    "    # Save the matrix\n",
    "    with open(os.path.join(preprocessed_folder, pretrained_w2v_file), 'w') as file:\n",
    "        file.write('\\n'.join(' '.join(str(x) for x in line) for line in matrix))\n",
    "    #np.save(os.path.join(preprocessed_folder, pretrained_w2v_file), matrix)\n",
    "    \n",
    "    return matrix\n",
    "\n",
    "\n",
    "w2v_embedding_matrix = build_matrix(loaded_embedding, tokenizer)"
   ]
  }
 ],
 "metadata": {
  "kernelspec": {
   "display_name": "venv",
   "language": "python",
   "name": "python3"
  },
  "language_info": {
   "codemirror_mode": {
    "name": "ipython",
    "version": 3
   },
   "file_extension": ".py",
   "mimetype": "text/x-python",
   "name": "python",
   "nbconvert_exporter": "python",
   "pygments_lexer": "ipython3",
   "version": "3.9.10"
  },
  "orig_nbformat": 4
 },
 "nbformat": 4,
 "nbformat_minor": 2
}
